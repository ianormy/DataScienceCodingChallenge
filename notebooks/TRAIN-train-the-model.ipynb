{
 "cells": [
  {
   "cell_type": "code",
   "execution_count": 1,
   "metadata": {
    "_cell_guid": "b1076dfc-b9ad-4769-8c92-a6c4dae69d19",
    "_uuid": "8f2839f25d086af736a60e9eeb907d3b93b6e0e5"
   },
   "outputs": [],
   "source": [
    "import numpy as np\n",
    "import pandas as pd\n",
    "from matplotlib import pyplot as plt\n",
    "import os\n",
    "import warnings  \n",
    "warnings.filterwarnings('ignore')\n",
    "import seaborn as sns\n",
    "from sklearn.ensemble import RandomForestClassifier\n",
    "from sklearn.model_selection import train_test_split\n",
    "from sklearn.preprocessing import StandardScaler\n",
    "from sklearn import metrics\n",
    "import pandas as pd\n",
    "import pickle"
   ]
  },
  {
   "cell_type": "code",
   "execution_count": 2,
   "metadata": {
    "_cell_guid": "79c7e3d0-c299-4dcb-8224-4455121ee9b0",
    "_uuid": "d629ff2d2480ee46fbb7e2d37f6b5fab8052498a"
   },
   "outputs": [],
   "source": [
    "df=pd.read_csv('./data/CustomerData_LeadGenerator.csv', index_col='fakeID')"
   ]
  },
  {
   "cell_type": "markdown",
   "metadata": {},
   "source": [
    "## Data Preperation"
   ]
  },
  {
   "cell_type": "markdown",
   "metadata": {},
   "source": [
    "From our Exploratory Data Analysis - see [EDA-Customer-lead-generator.ipynb](EDA-Customer-lead-generator.ipynb) - we know that we need to coerce the column **q_OpeningHours** and drop the failing row(s). We also need to drop the highly correlated columns."
   ]
  },
  {
   "cell_type": "code",
   "execution_count": 3,
   "metadata": {},
   "outputs": [
    {
     "name": "stdout",
     "output_type": "stream",
     "text": [
      "dropped 1 row(s)\n"
     ]
    }
   ],
   "source": [
    "df['q_OpeningHours'] = pd.to_numeric(df['q_OpeningHours'], errors='coerce')\n",
    "rows_before = df.shape[0]\n",
    "df.dropna(inplace=True)\n",
    "print('dropped {} row(s)'.format(rows_before - df.shape[0]))"
   ]
  },
  {
   "cell_type": "code",
   "execution_count": 4,
   "metadata": {},
   "outputs": [],
   "source": [
    "highly_correlated_cols = ['q_2017 HHs: 5th Quintile (68.759 and above)', \n",
    "                          'q_2017 Total Population', \n",
    "                          'q_2017 Pop 15+/Edu: University, Fachhochschule', \n",
    "                          'q_2017 Personal Care: Per Capita', \n",
    "                          'q_2017 Personal Effects: Per Capita']\n",
    "df = df.drop(highly_correlated_cols, axis=1)"
   ]
  },
  {
   "cell_type": "markdown",
   "metadata": {},
   "source": [
    "Let's rename some of the columns and identify the numeric columns for later."
   ]
  },
  {
   "cell_type": "code",
   "execution_count": 5,
   "metadata": {},
   "outputs": [],
   "source": [
    "df = df.rename(columns={\"b_gekauft_gesamt\": \"converted\", \"b_in_kontakt_gewesen\": \"contacted\"})"
   ]
  },
  {
   "cell_type": "code",
   "execution_count": 6,
   "metadata": {},
   "outputs": [],
   "source": [
    "numeric_cols = ['q_OpeningDays',\n",
    "                'q_OpeningHours',\n",
    "                'q_2017 Average Household Size',\n",
    "                'q_2017 Total Households', \n",
    "                'q_5th Quint by Total HH', \n",
    "                'q_2017 Purchasing Power: Per Capita', \n",
    "                'q_Uni by Total Pop', \n",
    "                'q_2017 Medical Products: Per Capita']"
   ]
  },
  {
   "cell_type": "markdown",
   "metadata": {},
   "source": [
    "## Binary Classification\n",
    "The problem we are trying to solve is really a binary classification problem. We have a target feature we are looking at - **converted** and it can take only 2 values - 0 or 1."
   ]
  },
  {
   "cell_type": "code",
   "execution_count": 7,
   "metadata": {},
   "outputs": [],
   "source": [
    "target_col = ['converted']"
   ]
  },
  {
   "cell_type": "code",
   "execution_count": 8,
   "metadata": {},
   "outputs": [],
   "source": [
    "# split the data by the target column\n",
    "df_x = df.drop(target_col, axis=1)\n",
    "df_y = df[target_col]"
   ]
  },
  {
   "cell_type": "markdown",
   "metadata": {},
   "source": [
    "## Train and test split\n",
    "We will split the data into two parts: one part we will use for **training** and the other part we will use for **testing**. We will use an 80/20 split, i.e. 80% of the data will be used for **training** and 20% of the data will be used for **testing**."
   ]
  },
  {
   "cell_type": "code",
   "execution_count": 9,
   "metadata": {},
   "outputs": [],
   "source": [
    "x_train, x_test, y_train, y_test = train_test_split(df_x, df_y, train_size=0.8, test_size=0.2, random_state=42)"
   ]
  },
  {
   "cell_type": "markdown",
   "metadata": {},
   "source": [
    "### Standardize the numeric data\n",
    "We standardize the numeric data to make sure that the values are in the same range. This is done after the train/test split as we will calculate the standardization parameters using the training data. We assume that the testing is from the same population so we don't include it in this initial calculation. This also means that we can test and evaluate whether our model can generalize well to new, unseen data points."
   ]
  },
  {
   "cell_type": "code",
   "execution_count": 10,
   "metadata": {},
   "outputs": [],
   "source": [
    "scaler = StandardScaler()\n",
    "scaler = scaler.fit(x_train[numeric_cols])"
   ]
  },
  {
   "cell_type": "code",
   "execution_count": 11,
   "metadata": {},
   "outputs": [],
   "source": [
    "x_train[numeric_cols] = scaler.transform(x_train[numeric_cols])"
   ]
  },
  {
   "cell_type": "markdown",
   "metadata": {},
   "source": [
    "If our standardization has worked correctly we should see that the statistics for the numeric columns have an approximate **std** of 1.0 and a **mean** of 0.0"
   ]
  },
  {
   "cell_type": "code",
   "execution_count": 12,
   "metadata": {},
   "outputs": [
    {
     "data": {
      "text/html": [
       "<div>\n",
       "<style scoped>\n",
       "    .dataframe tbody tr th:only-of-type {\n",
       "        vertical-align: middle;\n",
       "    }\n",
       "\n",
       "    .dataframe tbody tr th {\n",
       "        vertical-align: top;\n",
       "    }\n",
       "\n",
       "    .dataframe thead th {\n",
       "        text-align: right;\n",
       "    }\n",
       "</style>\n",
       "<table border=\"1\" class=\"dataframe\">\n",
       "  <thead>\n",
       "    <tr style=\"text-align: right;\">\n",
       "      <th></th>\n",
       "      <th>q_OpeningDays</th>\n",
       "      <th>q_OpeningHours</th>\n",
       "      <th>q_2017 Average Household Size</th>\n",
       "      <th>q_2017 Total Households</th>\n",
       "      <th>q_5th Quint by Total HH</th>\n",
       "      <th>q_2017 Purchasing Power: Per Capita</th>\n",
       "      <th>q_Uni by Total Pop</th>\n",
       "      <th>q_2017 Medical Products: Per Capita</th>\n",
       "    </tr>\n",
       "  </thead>\n",
       "  <tbody>\n",
       "    <tr>\n",
       "      <th>count</th>\n",
       "      <td>3.017000e+03</td>\n",
       "      <td>3.017000e+03</td>\n",
       "      <td>3.017000e+03</td>\n",
       "      <td>3.017000e+03</td>\n",
       "      <td>3.017000e+03</td>\n",
       "      <td>3.017000e+03</td>\n",
       "      <td>3.017000e+03</td>\n",
       "      <td>3.017000e+03</td>\n",
       "    </tr>\n",
       "    <tr>\n",
       "      <th>mean</th>\n",
       "      <td>4.945773e-17</td>\n",
       "      <td>1.413078e-16</td>\n",
       "      <td>-8.101647e-16</td>\n",
       "      <td>-2.781997e-17</td>\n",
       "      <td>-7.771929e-17</td>\n",
       "      <td>7.418660e-16</td>\n",
       "      <td>2.361018e-16</td>\n",
       "      <td>8.690430e-16</td>\n",
       "    </tr>\n",
       "    <tr>\n",
       "      <th>std</th>\n",
       "      <td>1.000166e+00</td>\n",
       "      <td>1.000166e+00</td>\n",
       "      <td>1.000166e+00</td>\n",
       "      <td>1.000166e+00</td>\n",
       "      <td>1.000166e+00</td>\n",
       "      <td>1.000166e+00</td>\n",
       "      <td>1.000166e+00</td>\n",
       "      <td>1.000166e+00</td>\n",
       "    </tr>\n",
       "    <tr>\n",
       "      <th>min</th>\n",
       "      <td>-1.548350e+00</td>\n",
       "      <td>-1.417470e+00</td>\n",
       "      <td>-1.579254e+00</td>\n",
       "      <td>-9.388964e-01</td>\n",
       "      <td>-3.883756e+00</td>\n",
       "      <td>-3.511241e+00</td>\n",
       "      <td>-1.857271e+00</td>\n",
       "      <td>-5.008505e+00</td>\n",
       "    </tr>\n",
       "    <tr>\n",
       "      <th>25%</th>\n",
       "      <td>-1.548350e+00</td>\n",
       "      <td>-1.417470e+00</td>\n",
       "      <td>-9.288839e-01</td>\n",
       "      <td>-7.604606e-01</td>\n",
       "      <td>-5.215450e-01</td>\n",
       "      <td>-4.593578e-01</td>\n",
       "      <td>-9.763105e-01</td>\n",
       "      <td>-3.626544e-01</td>\n",
       "    </tr>\n",
       "    <tr>\n",
       "      <th>50%</th>\n",
       "      <td>3.765998e-01</td>\n",
       "      <td>1.886436e-01</td>\n",
       "      <td>-2.785143e-01</td>\n",
       "      <td>-5.682320e-01</td>\n",
       "      <td>-7.667956e-02</td>\n",
       "      <td>3.952347e-01</td>\n",
       "      <td>-5.252173e-03</td>\n",
       "      <td>-5.050011e-02</td>\n",
       "    </tr>\n",
       "    <tr>\n",
       "      <th>75%</th>\n",
       "      <td>8.578372e-01</td>\n",
       "      <td>7.240146e-01</td>\n",
       "      <td>1.022225e+00</td>\n",
       "      <td>1.398526e+00</td>\n",
       "      <td>6.570877e-01</td>\n",
       "      <td>5.788550e-01</td>\n",
       "      <td>1.108597e+00</td>\n",
       "      <td>5.097767e-01</td>\n",
       "    </tr>\n",
       "    <tr>\n",
       "      <th>max</th>\n",
       "      <td>1.820312e+00</td>\n",
       "      <td>3.783278e+00</td>\n",
       "      <td>4.274073e+00</td>\n",
       "      <td>1.762645e+00</td>\n",
       "      <td>2.881636e+00</td>\n",
       "      <td>2.481521e+00</td>\n",
       "      <td>1.743301e+00</td>\n",
       "      <td>3.272920e+00</td>\n",
       "    </tr>\n",
       "  </tbody>\n",
       "</table>\n",
       "</div>"
      ],
      "text/plain": [
       "       q_OpeningDays  q_OpeningHours  q_2017 Average Household Size  \\\n",
       "count   3.017000e+03    3.017000e+03                   3.017000e+03   \n",
       "mean    4.945773e-17    1.413078e-16                  -8.101647e-16   \n",
       "std     1.000166e+00    1.000166e+00                   1.000166e+00   \n",
       "min    -1.548350e+00   -1.417470e+00                  -1.579254e+00   \n",
       "25%    -1.548350e+00   -1.417470e+00                  -9.288839e-01   \n",
       "50%     3.765998e-01    1.886436e-01                  -2.785143e-01   \n",
       "75%     8.578372e-01    7.240146e-01                   1.022225e+00   \n",
       "max     1.820312e+00    3.783278e+00                   4.274073e+00   \n",
       "\n",
       "       q_2017 Total Households  q_5th Quint by Total HH  \\\n",
       "count             3.017000e+03             3.017000e+03   \n",
       "mean             -2.781997e-17            -7.771929e-17   \n",
       "std               1.000166e+00             1.000166e+00   \n",
       "min              -9.388964e-01            -3.883756e+00   \n",
       "25%              -7.604606e-01            -5.215450e-01   \n",
       "50%              -5.682320e-01            -7.667956e-02   \n",
       "75%               1.398526e+00             6.570877e-01   \n",
       "max               1.762645e+00             2.881636e+00   \n",
       "\n",
       "       q_2017 Purchasing Power: Per Capita  q_Uni by Total Pop  \\\n",
       "count                         3.017000e+03        3.017000e+03   \n",
       "mean                          7.418660e-16        2.361018e-16   \n",
       "std                           1.000166e+00        1.000166e+00   \n",
       "min                          -3.511241e+00       -1.857271e+00   \n",
       "25%                          -4.593578e-01       -9.763105e-01   \n",
       "50%                           3.952347e-01       -5.252173e-03   \n",
       "75%                           5.788550e-01        1.108597e+00   \n",
       "max                           2.481521e+00        1.743301e+00   \n",
       "\n",
       "       q_2017 Medical Products: Per Capita  \n",
       "count                         3.017000e+03  \n",
       "mean                          8.690430e-16  \n",
       "std                           1.000166e+00  \n",
       "min                          -5.008505e+00  \n",
       "25%                          -3.626544e-01  \n",
       "50%                          -5.050011e-02  \n",
       "75%                           5.097767e-01  \n",
       "max                           3.272920e+00  "
      ]
     },
     "execution_count": 12,
     "metadata": {},
     "output_type": "execute_result"
    }
   ],
   "source": [
    "x_train[numeric_cols].describe()"
   ]
  },
  {
   "cell_type": "markdown",
   "metadata": {},
   "source": [
    "Success! Now we can standardize the testing data using the scaling from the training data."
   ]
  },
  {
   "cell_type": "code",
   "execution_count": 13,
   "metadata": {},
   "outputs": [],
   "source": [
    "x_test[numeric_cols] = scaler.transform(x_test[numeric_cols])"
   ]
  },
  {
   "cell_type": "markdown",
   "metadata": {},
   "source": [
    "## Model type\n",
    "Since this is a binary classification problem we will use a [Random Forest Classifier](https://scikit-learn.org/stable/modules/generated/sklearn.ensemble.RandomForestClassifier.html) provided by the **sklearn** package."
   ]
  },
  {
   "cell_type": "code",
   "execution_count": 14,
   "metadata": {},
   "outputs": [],
   "source": [
    "# Create the Random Forest Classifier model\n",
    "num_estimators = 100\n",
    "min_samples = 4\n",
    "model = RandomForestClassifier(n_estimators=num_estimators, min_samples_split=min_samples)"
   ]
  },
  {
   "cell_type": "markdown",
   "metadata": {},
   "source": [
    "## Train the model\n",
    "We can now train the model using the training data."
   ]
  },
  {
   "cell_type": "code",
   "execution_count": 15,
   "metadata": {},
   "outputs": [
    {
     "data": {
      "text/plain": [
       "RandomForestClassifier(min_samples_split=4)"
      ]
     },
     "execution_count": 15,
     "metadata": {},
     "output_type": "execute_result"
    }
   ],
   "source": [
    "model.fit(x_train, y_train.values.ravel())"
   ]
  },
  {
   "cell_type": "markdown",
   "metadata": {},
   "source": [
    "### Save the model\n",
    "We should save the model so we can load it later."
   ]
  },
  {
   "cell_type": "code",
   "execution_count": 16,
   "metadata": {},
   "outputs": [],
   "source": [
    "filename = 'final_model.pkl'\n",
    "pickle.dump(model, open(filename, 'wb'))"
   ]
  },
  {
   "cell_type": "code",
   "execution_count": 17,
   "metadata": {},
   "outputs": [],
   "source": [
    "def calc_cm_stats(cm):\n",
    "    \"\"\"Calculate stats using the provided confusion matrix\n",
    "    \n",
    "    Args:\n",
    "        cm: confusion matrix\n",
    "    Returns:\n",
    "        accuracy, specificity, sensitivity\n",
    "    \"\"\"\n",
    "    TP = cm[1,1] # true positive \n",
    "    TN = cm[0,0] # true negatives\n",
    "    FP = cm[0,1] # false positives\n",
    "    FN = cm[1,0] # false negatives\n",
    "    accuracy = (TN+TP)/sum(sum(cm))\n",
    "    specificity = TN/(TN+FP)\n",
    "    sensitivity = TP/float(TP+FN)\n",
    "    return accuracy, specificity, sensitivity"
   ]
  },
  {
   "cell_type": "markdown",
   "metadata": {},
   "source": [
    "## Feature Importance\n",
    "Let's discover the feature importances of this trained model."
   ]
  },
  {
   "cell_type": "code",
   "execution_count": 18,
   "metadata": {},
   "outputs": [],
   "source": [
    "feat_labels = x_train.columns\n",
    "importances = model.feature_importances_\n",
    "indices = np.argsort(importances)[::-1]  # show them in decreasing order of importance\n",
    "num_features = x_train.shape[1]"
   ]
  },
  {
   "cell_type": "code",
   "execution_count": 19,
   "metadata": {},
   "outputs": [
    {
     "data": {
      "image/png": "[encoded data removed]",
      "text/plain": [
       "<Figure size 432x288 with 1 Axes>"
      ]
     },
     "metadata": {
      "needs_background": "light"
     },
     "output_type": "display_data"
    }
   ],
   "source": [
    "plt.title('Feature Importances')\n",
    "plt.bar(range(num_features), importances[indices], color='r', align='center')\n",
    "plt.xticks(range(num_features), feat_labels[indices], rotation=90)\n",
    "plt.xlim([-1, num_features])\n",
    "plt.tight_layout()\n",
    "plt.show()"
   ]
  },
  {
   "cell_type": "markdown",
   "metadata": {},
   "source": [
    "We had already observed with our EDA that **contacted** was an important feature. Here we can see it's clearly the most important one."
   ]
  },
  {
   "cell_type": "markdown",
   "metadata": {},
   "source": [
    "## Testing the trained model\n",
    "Having trained our model we will now use it to make predictions with the test data."
   ]
  },
  {
   "cell_type": "code",
   "execution_count": 20,
   "metadata": {},
   "outputs": [],
   "source": [
    "y_test_pred = model.predict(x_test)"
   ]
  },
  {
   "cell_type": "code",
   "execution_count": 21,
   "metadata": {},
   "outputs": [],
   "source": [
    "# get the predicted probabilities of it being a converted sale\n",
    "y_test_prob = model.predict_proba(x_test)[:, 1]"
   ]
  },
  {
   "cell_type": "code",
   "execution_count": 22,
   "metadata": {},
   "outputs": [
    {
     "name": "stdout",
     "output_type": "stream",
     "text": [
      "accuracy: 0.99\n",
      "area under curve (AUC): 0.79\n"
     ]
    }
   ],
   "source": [
    "accuracy = metrics.accuracy_score(y_test, y_test_pred)\n",
    "auc_score = metrics.roc_auc_score(y_test, y_test_pred)\n",
    "\n",
    "print(f'accuracy: {accuracy:.2f}')\n",
    "print(f'area under curve (AUC): {auc_score:.2f}')"
   ]
  },
  {
   "cell_type": "markdown",
   "metadata": {},
   "source": [
    "## Plotting ROC curve"
   ]
  },
  {
   "cell_type": "code",
   "execution_count": 23,
   "metadata": {},
   "outputs": [],
   "source": [
    "def draw_roc(actual, probs):\n",
    "    fpr, tpr, thresholds = metrics.roc_curve(actual, probs, drop_intermediate=False)\n",
    "    auc_score = metrics.roc_auc_score(actual, probs)\n",
    "    plt.figure(figsize=(5, 5))\n",
    "    plt.plot(fpr, tpr, label=f'ROC curve (area = {auc_score:.2f})')\n",
    "    plt.plot([0, 1], [0, 1], 'k--')\n",
    "    plt.xlim([0.0, 1.0])\n",
    "    plt.ylim([0.0, 1.05])\n",
    "    plt.xlabel('False Positive Rate or [1 - True Negative Rate]')\n",
    "    plt.ylabel('True Positive Rate')\n",
    "    plt.title('ROC')\n",
    "    plt.legend(loc=\"lower right\")\n",
    "    plt.show()"
   ]
  },
  {
   "cell_type": "code",
   "execution_count": 24,
   "metadata": {},
   "outputs": [
    {
     "data": {
      "image/png": "[encoded data removed]",
      "text/plain": [
       "<Figure size 360x360 with 1 Axes>"
      ]
     },
     "metadata": {
      "needs_background": "light"
     },
     "output_type": "display_data"
    }
   ],
   "source": [
    "draw_roc(y_test, y_test_pred)"
   ]
  },
  {
   "cell_type": "markdown",
   "metadata": {},
   "source": [
    "The ROC curve should be close to 1. We are getting a value of 0.79 on data that we haven't seen before. This is still a good value. This means that there is a 79% chance that the model will be able to distinguish between those that can produce **converted** sales and those that can't. This could be improved by having more training data that includes more converted sales."
   ]
  },
  {
   "cell_type": "markdown",
   "metadata": {},
   "source": [
    "## Testing Observation\n",
    "After doing our testing we have found the following statistics:\n",
    "* Accuracy: 0.99\n",
    "* AUC: 0.71"
   ]
  },
  {
   "cell_type": "markdown",
   "metadata": {},
   "source": [
    "## Confusion Matrix"
   ]
  },
  {
   "cell_type": "markdown",
   "metadata": {},
   "source": [
    "The confusion matrix is another way of showing predictions of **True Negative**, **False Positive**, **False Negative** and **True Positive** by the model."
   ]
  },
  {
   "cell_type": "code",
   "execution_count": 25,
   "metadata": {},
   "outputs": [
    {
     "name": "stdout",
     "output_type": "stream",
     "text": [
      "[[742   1]\n",
      " [  5   7]]\n"
     ]
    }
   ],
   "source": [
    "# Confusion matrix \n",
    "confusion = metrics.confusion_matrix(y_test, y_test_pred)"
   ]
  },
  {
   "cell_type": "code",
   "execution_count": 26,
   "metadata": {},
   "outputs": [
    {
     "data": {
      "text/plain": [
       "<AxesSubplot:>"
      ]
     },
     "execution_count": 26,
     "metadata": {},
     "output_type": "execute_result"
    },
    {
     "data": {
      "image/png": "[encoded data removed]",
      "text/plain": [
       "<Figure size 432x288 with 2 Axes>"
      ]
     },
     "metadata": {
      "needs_background": "light"
     },
     "output_type": "display_data"
    }
   ],
   "source": [
    "group_names = ['True Negative','False Positive','False Negative','True Positive']\n",
    "group_percentages = [f'{value:.3f}' for value in confusion.flatten()/np.sum(confusion)]\n",
    "labels = [f'{v1}\\n{v2}' for v1, v2 in zip(group_names, group_percentages)]\n",
    "labels = np.asarray(labels).reshape(2,2)\n",
    "sns.heatmap(confusion, annot=labels, fmt='', cmap='Blues')"
   ]
  },
  {
   "cell_type": "markdown",
   "metadata": {},
   "source": [
    "It makes sense that we are 98.1% accurate in predicting a true negative since the bulk of our data - 98.5% - is negative (i.e.\n",
    "most of the customers did not lead to a completed sale)."
   ]
  },
  {
   "cell_type": "markdown",
   "metadata": {},
   "source": [
    "## Final Observations\n",
    "Our final observations are that the Model seems to predict the Conversion Rate quite well and can be used to make good contacts based on it. The predictions of conversions from this model are 79% sure. It also worth noting that the model could be further improved by providing more data from converted sales."
   ]
  },
  {
   "cell_type": "code",
   "execution_count": null,
   "metadata": {},
   "outputs": [],
   "source": []
  }
 ],
 "metadata": {
  "kernelspec": {
   "display_name": "Python 3 (ipykernel)",
   "language": "python",
   "name": "python3"
  },
  "language_info": {
   "codemirror_mode": {
    "name": "ipython",
    "version": 3
   },
   "file_extension": ".py",
   "mimetype": "text/x-python",
   "name": "python",
   "nbconvert_exporter": "python",
   "pygments_lexer": "ipython3",
   "version": "3.8.8"
  }
 },
 "nbformat": 4,
 "nbformat_minor": 1
}
